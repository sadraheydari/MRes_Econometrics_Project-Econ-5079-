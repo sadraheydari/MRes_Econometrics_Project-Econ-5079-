{
 "cells": [
  {
   "cell_type": "code",
   "execution_count": 1,
   "id": "7eeb4280",
   "metadata": {},
   "outputs": [
    {
     "name": "stderr",
     "output_type": "stream",
     "text": [
      "100%|██████████| 10000/10000 [00:00<00:00, 12252.92it/s]"
     ]
    },
    {
     "name": "stdout",
     "output_type": "stream",
     "text": [
      "        TRUE       OLS    BIASED\n",
      "beta_0   1.3  1.302047  1.342495\n",
      "beta_1   0.9  0.893718  0.000000\n",
      "beta_2  -0.9 -0.925110  0.000000\n"
     ]
    },
    {
     "name": "stderr",
     "output_type": "stream",
     "text": [
      "\n"
     ]
    }
   ],
   "source": [
    "### Python Libraries ===========================\n",
    "import pandas as pd\n",
    "import numpy as np\n",
    "from tqdm import tqdm, trange\n",
    "\n",
    "from numpy import sqrt\n",
    "from numpy.random import randn\n",
    "from numpy.linalg import cholesky as chol\n",
    "### ============================================\n",
    "\n",
    "\n",
    "\n",
    "nMC = 10_000 # Number of Monte Carlo iterations\n",
    "\n",
    "# Storage matrices for estimates\n",
    "TRUE   = []\n",
    "OLS    = []\n",
    "BIASED = []\n",
    "\n",
    "for iMC in trange(nMC):  #### Start Monte Carlo iterations here\n",
    "    \n",
    "    #### ========================| GENERATE ARTIFICIAL DATA |=================\n",
    "    # Settings for Monte Carlo exercise\n",
    "    n = 100    # Number of data observations\n",
    "    p = 3      # Number of predictors\n",
    "\n",
    "    # Generate regressors that might be correlated\n",
    "    # first generate correlation matrix\n",
    "    rho = 0.99    # Correlation coefficient (keep between -1 and 1)\n",
    "    R   = np.zeros((p,p))   # Space in memory for correlation matrix\n",
    "    for i in range(p):\n",
    "        for j in range(p):\n",
    "            R[i, j] = rho ** (abs(i-j))\n",
    "\n",
    "    # next generate correlated predictors from a Normal distribution\n",
    "    X = randn(n,p) @ chol(R)\n",
    "\n",
    "    # generate regression coefficients. Here you can either set each parameter\n",
    "    # yourself, e.g. beta = [1.2, -0.8] in the case of p=2 predictors, beta =\n",
    "    # [2.1, -1.4, 3.6] in the case of p=3 predictors, etc. Here below I specify\n",
    "    # a beta vector that complies with p=2. If you do not want to input each\n",
    "    # value of beta every time (e.g. because you want to try p=20), then you\n",
    "    # can generate this randomly (using a command of the form beta =\n",
    "    # rand(p,1))\n",
    "    beta = np.array([1.3, 0.9, -0.9])\n",
    "\n",
    "    # Generate regression data y\n",
    "    sigma2 = 1    # Regression variance\n",
    "    y = (X @ beta).reshape((-1, 1)) + sqrt(sigma2) * randn(n,1)   # These are my data y following the regression data generating process\n",
    "    ##### =====================================================================\n",
    "\n",
    "\n",
    "    # From here on, you have in your memory data X and y, and you can treat\n",
    "    # them as a sample from a population. The only difference is that you now\n",
    "    # know that y DOES come from a linear regression model with p predictors.\n",
    "    # You can do various experiments. For example, if you use all p predictors\n",
    "    # you can estimate the regression model with various values of n\n",
    "    # (observations) and check how OLS becomes more precise as n increases. The\n",
    "    # experiment we are going to do here is that of omitted variable bias.\n",
    "    # Assume that you are given p predictors in X but you only use the first\n",
    "    # one\n",
    "    X_est = X[:,[0]]\n",
    "\n",
    "    # This means that OLS estimates in the TRUE model (the one in the data\n",
    "    # generating process above) is:\n",
    "    beta_OLS  = np.linalg.inv(X.T @ X) @ (X.T @ y)\n",
    "\n",
    "    # ...while OLS estimates in our misspecified model with only one predictor\n",
    "    # are\n",
    "    beta_OLS_omitbias = np.linalg.inv(X_est.T @ X_est) @ (X_est.T @ y)\n",
    "\n",
    "    # The true parameters are known of course with precision, and are provided\n",
    "    # from the DGP above\n",
    "    beta_TRUE = beta\n",
    "\n",
    "    # Save results from i-th Monte Carlo iteration\n",
    "    # These are p estimates for each of the nMC datasets\n",
    "    TRUE  .append(beta_TRUE                                       .tolist())\n",
    "    OLS   .append(beta_OLS.reshape(-1)                            .tolist())\n",
    "    BIASED.append(np.append(beta_OLS_omitbias, np.zeros((p-1, 1))).tolist())\n",
    "\n",
    "print(pd.DataFrame(\n",
    "    np.array([TRUE, OLS, BIASED]).mean(axis = 1).T,\n",
    "    columns = ['TRUE', 'OLS', 'BIASED'],\n",
    "    index   = [f'beta_{i}' for i in range(p)]\n",
    "))"
   ]
  }
 ],
 "metadata": {
  "kernelspec": {
   "display_name": "base",
   "language": "python",
   "name": "python3"
  },
  "language_info": {
   "codemirror_mode": {
    "name": "ipython",
    "version": 3
   },
   "file_extension": ".py",
   "mimetype": "text/x-python",
   "name": "python",
   "nbconvert_exporter": "python",
   "pygments_lexer": "ipython3",
   "version": "3.11.5"
  }
 },
 "nbformat": 4,
 "nbformat_minor": 5
}
